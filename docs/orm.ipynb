{
 "cells": [
  {
   "cell_type": "markdown",
   "metadata": {},
   "source": [
    "# Object-relational mapping\n",
    "\n",
    "The `nbgallery.database.orm` module represents the nbgallery database as Python objects.  For example, a `Notebook` object represents a row from the `notebooks` table in the database, and `Notebook.creator` uses the `notebooks.creator_id` foreign key to return a `User` object from the `users` table.  The mapping is (mostly) automatically generated directly from the database table structure.  The naming convention of classes and members has been configured to be similar to the Rails ActiveRecord convention for consistency with the main [nbgallery project](https://github.com/nbgallery/nbgallery).\n",
    "\n",
    "For information on the ORM query API, please see the [SQLAlchemy documentation](https://docs.sqlalchemy.org/en/13/orm/)."
   ]
  },
  {
   "cell_type": "code",
   "execution_count": null,
   "metadata": {},
   "outputs": [],
   "source": [
    "import nbgallery.database.orm as nbgorm"
   ]
  },
  {
   "cell_type": "markdown",
   "metadata": {},
   "source": [
    "## Session object\n",
    "\n",
    "You need a [Session](https://docs.sqlalchemy.org/en/13/orm/session_basics.html) for tracking objects that have been loaded from the database."
   ]
  },
  {
   "cell_type": "code",
   "execution_count": null,
   "metadata": {},
   "outputs": [],
   "source": [
    "session = nbgorm.Session()"
   ]
  },
  {
   "cell_type": "markdown",
   "metadata": {},
   "source": [
    "## Objects\n",
    "\n",
    "Here's how to get the first notebook from the database.  Member names correspond to database columns."
   ]
  },
  {
   "cell_type": "code",
   "execution_count": null,
   "metadata": {},
   "outputs": [],
   "source": [
    "nb = session.query(nbgorm.Notebook).first()\n",
    "print(nb)\n",
    "print(nb.title)"
   ]
  },
  {
   "cell_type": "markdown",
   "metadata": {},
   "source": [
    "## Relationships\n",
    "\n",
    "The `creator` member corresponds to the `creator_id` foreign key, which links a notebook to its creator from the `users` table."
   ]
  },
  {
   "cell_type": "code",
   "execution_count": null,
   "metadata": {},
   "outputs": [],
   "source": [
    "creator = nb.creator\n",
    "print(creator)\n",
    "print(creator.user_name)"
   ]
  },
  {
   "cell_type": "markdown",
   "metadata": {},
   "source": [
    "One-to-many relationships are represented with a collection.  In this case, the `clicks` table has a `notebook_id` column that links back to the `notebooks` table, so the `Notebook` object has a `clicks` member that gives you a collection of `Click` objects."
   ]
  },
  {
   "cell_type": "code",
   "execution_count": null,
   "metadata": {},
   "outputs": [],
   "source": [
    "print(len(nb.clicks))\n",
    "print(nb.clicks[0])"
   ]
  },
  {
   "cell_type": "markdown",
   "metadata": {},
   "source": [
    "A Notebook can be owned by a User or a Group.  In the database, this is implemented by using an id and a type column, but the ORM handles that transparently."
   ]
  },
  {
   "cell_type": "code",
   "execution_count": null,
   "metadata": {},
   "outputs": [],
   "source": [
    "print(nb.owner)"
   ]
  },
  {
   "cell_type": "markdown",
   "metadata": {},
   "source": [
    "## ORM Queries\n",
    "\n",
    "Some examples.  For more detail, see the [SQLAlchemy documentation](https://docs.sqlalchemy.org/en/13/orm/tutorial.html#querying)."
   ]
  },
  {
   "cell_type": "code",
   "execution_count": null,
   "metadata": {},
   "outputs": [],
   "source": [
    "for user_name, email in session.query(nbgorm.User.user_name, nbgorm.User.email).order_by(nbgorm.User.user_name):\n",
    "    print(user_name, email)"
   ]
  },
  {
   "cell_type": "code",
   "execution_count": null,
   "metadata": {},
   "outputs": [],
   "source": [
    "for nb in session.query(nbgorm.Notebook).filter(nbgorm.Notebook.title.like('%matplotlib%')):\n",
    "    print(nb.title)"
   ]
  },
  {
   "cell_type": "markdown",
   "metadata": {},
   "source": [
    "## More help\n",
    "\n",
    "Warning - a lot of this is auto-generated, but maybe still useful."
   ]
  },
  {
   "cell_type": "code",
   "execution_count": null,
   "metadata": {},
   "outputs": [],
   "source": [
    "help(nbgorm)"
   ]
  },
  {
   "cell_type": "code",
   "execution_count": null,
   "metadata": {},
   "outputs": [],
   "source": []
  }
 ],
 "metadata": {
  "kernelspec": {
   "display_name": "Python 3",
   "language": "python",
   "name": "python3"
  },
  "language_info": {
   "codemirror_mode": {
    "name": "ipython",
    "version": 3
   },
   "file_extension": ".py",
   "mimetype": "text/x-python",
   "name": "python",
   "nbconvert_exporter": "python",
   "pygments_lexer": "ipython3",
   "version": "3.8.5"
  }
 },
 "nbformat": 4,
 "nbformat_minor": 4
}
